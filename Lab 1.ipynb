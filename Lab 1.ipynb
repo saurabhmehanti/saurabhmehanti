{
 "cells": [
  {
   "cell_type": "markdown",
   "id": "de39a8d4",
   "metadata": {},
   "source": [
    "# Question 1\n",
    "### What data type is each of the following (evaluate where necessary)?"
   ]
  },
  {
   "cell_type": "code",
   "execution_count": 20,
   "id": "27c86d64",
   "metadata": {},
   "outputs": [],
   "source": [
    "import math"
   ]
  },
  {
   "cell_type": "code",
   "execution_count": 21,
   "id": "78de6e86",
   "metadata": {},
   "outputs": [],
   "source": [
    "a=5\n",
    "b=5.0\n",
    "c=5 > 1\n",
    "d='5'\n",
    "e=5 * 2\n",
    "f='5' * 2\n",
    "g='5' + '2'\n",
    "h=5 / 2\n",
    "i=5%2\n",
    "j= {5,2,1}\n",
    "k=5== 3\n",
    "l=math.pi"
   ]
  },
  {
   "cell_type": "code",
   "execution_count": 22,
   "id": "c5a448a4",
   "metadata": {},
   "outputs": [
    {
     "name": "stdout",
     "output_type": "stream",
     "text": [
      "The datatype of 5 is: <class 'int'>\n",
      "The datatype of 5.0 is: <class 'float'>\n",
      "The datatype of 5 > 1 is: <class 'bool'>\n",
      "The datatype of 5 is: <class 'str'>\n",
      "The datatype of 10 is: <class 'int'>\n",
      "The datatype of 55 is: <class 'str'>\n",
      "The datatype of 52 is: <class 'str'>\n",
      "The datatype of 2.5 is: <class 'float'>\n",
      "The datatype of 1 is: <class 'int'>\n",
      "The datatype of {1, 2, 5} is: <class 'set'>\n",
      "The datatype of 5 == 3 is: <class 'bool'>\n",
      "The datatype of pi(the number)is: <class 'float'>\n"
     ]
    }
   ],
   "source": [
    "print(f'The datatype of {a} is:', type(a))\n",
    "print(f'The datatype of {b} is:', type(b))\n",
    "print('The datatype of 5 > 1 is:', type(c))\n",
    "print(f'The datatype of {d} is:', type(d))\n",
    "print(f'The datatype of {e} is:', type(e))\n",
    "print(f'The datatype of {f} is:', type(f))\n",
    "print(f'The datatype of {g} is:', type(g))\n",
    "print(f'The datatype of {h} is:', type(h))\n",
    "print(f'The datatype of {i} is:', type(i))\n",
    "print('The datatype of',j, 'is:', type(j))\n",
    "print('The datatype of 5 == 3 is:', type(k))\n",
    "print('The datatype of pi(the number)is:', type(l))"
   ]
  },
  {
   "cell_type": "markdown",
   "id": "716c0144",
   "metadata": {},
   "source": [
    "# Question 2\n",
    "### Write (and evaluate) python expressions that answer these questions:\n",
    "### a. How many letters are there in 'Supercalifragilisticexpialidocious'?"
   ]
  },
  {
   "cell_type": "code",
   "execution_count": 4,
   "id": "499b4a59",
   "metadata": {},
   "outputs": [
    {
     "name": "stdout",
     "output_type": "stream",
     "text": [
      "There are 34 letters in the word 'Supercalifragilisticexpialidocious'.\n"
     ]
    }
   ],
   "source": [
    "W = 'Supercalifragilisticexpialidocious'\n",
    "letters = len(W)\n",
    "print(f\"There are {letters} letters in the word '{W}'.\")"
   ]
  },
  {
   "cell_type": "markdown",
   "id": "a569289d",
   "metadata": {},
   "source": [
    "### b. Does 'Supercalifragilisticexpialidocious' contain 'ice' as a substring?"
   ]
  },
  {
   "cell_type": "code",
   "execution_count": 5,
   "id": "9f7f0b3a",
   "metadata": {},
   "outputs": [
    {
     "name": "stdout",
     "output_type": "stream",
     "text": [
      "Yes, ice is the substring of Supercalifragilisticexpialidocious\n"
     ]
    }
   ],
   "source": [
    "substring = 'ice'\n",
    "if substring in W:\n",
    "    print(f'Yes, {substring} is the substring of {W}')\n",
    "else:\n",
    "    print(f'No, {substring} is not the substring of {W}')"
   ]
  },
  {
   "cell_type": "markdown",
   "id": "ecfab08c",
   "metadata": {},
   "source": [
    "### c. Which of the following words is the longest: Supercalifragilisticexpialidocious, Honorificabilitudinitatibus, or Bababadalgharaghtakamminarronnkonn?"
   ]
  },
  {
   "cell_type": "code",
   "execution_count": 6,
   "id": "a0a9c403",
   "metadata": {},
   "outputs": [
    {
     "name": "stdout",
     "output_type": "stream",
     "text": [
      "The longest word is: Supercalifragilisticexpialidocious\n"
     ]
    }
   ],
   "source": [
    "words = ['Supercalifragilisticexpialidocious','Honorificabilitudinitatibus','Bababadalgharaghtakamminarronnkonn']\n",
    "\n",
    "longest = max(words, key=len)\n",
    "\n",
    "print(f\"The longest word is: {longest}\")"
   ]
  },
  {
   "cell_type": "markdown",
   "id": "891bd5de",
   "metadata": {},
   "source": [
    "### d. Which composer comes first in the dictionary: 'Berlioz', 'Borodin', 'Brian', 'Bartok', 'Bellini', 'Buxtehude', 'Bernstein'. Which one comes last?"
   ]
  },
  {
   "cell_type": "code",
   "execution_count": 7,
   "id": "e1c10260",
   "metadata": {},
   "outputs": [
    {
     "name": "stdout",
     "output_type": "stream",
     "text": [
      "The composer that comes first is: Bartok\n"
     ]
    }
   ],
   "source": [
    "composers = ['Berlioz', 'Borodin', 'Brian', 'Bartok', 'Bellini', 'Buxtehude', 'Bernstein']\n",
    "composers.sort()  # This will sort the list of words alphabatically\n",
    "\n",
    "first = composers[0]\n",
    "\n",
    "print(\"The composer that comes first is:\", first)"
   ]
  },
  {
   "cell_type": "markdown",
   "id": "9008429d",
   "metadata": {},
   "source": [
    "# Question 3\n",
    "### Implement function triangleArea(a,b,c) that takes as input the lengths of the 3 sides of a triangle and returns the area of the triangle. By Heron's formula, the area of a triangle with side lengths a, b, and c is s(s - a)(s -b)(s -c), where s = (a +b + c) /2."
   ]
  },
  {
   "cell_type": "code",
   "execution_count": 8,
   "id": "347a62ac",
   "metadata": {},
   "outputs": [
    {
     "name": "stdout",
     "output_type": "stream",
     "text": [
      "First Side: 2\n",
      "Second Side: 2\n",
      "Third Side: 2\n",
      "The area of the triangle with sides 2 2 and 2 is 1.7320508075688772\n"
     ]
    }
   ],
   "source": [
    "def triangleArea(a, b, c):\n",
    "    s = (a + b + c) / 2\n",
    "    area = (s * (s - a) * (s - b) * (s - c))**0.5 \n",
    "    return area\n",
    "\n",
    "a = int(input('First Side: '))\n",
    "b = int(input('Second Side: '))\n",
    "c = int(input('Third Side: '))\n",
    "area = triangleArea(a, b, c)\n",
    "print(\"The area of the triangle with sides\", a, b, \"and\", c, \"is\",area)"
   ]
  },
  {
   "cell_type": "markdown",
   "id": "897b1302",
   "metadata": {},
   "source": [
    "# Question 4\n",
    "### Write a program in python to separate odd and even integers in separate arrays. Go to the editor Test Data : Input the number of elements to be stored in the array :5 Input 5 elements in the array :\n",
    "### element - 0 : 25\n",
    "### element - 1 : 47\n",
    "### element - 2 : 42\n",
    "### element - 3 : 56\n",
    "### element - 4 : 32\n",
    "### Expected Output:\n",
    "### The Even elements are:\n",
    "### 42 56 32\n",
    "### The Odd elements are :\n",
    "### 25 47"
   ]
  },
  {
   "cell_type": "code",
   "execution_count": 9,
   "id": "96a519ef",
   "metadata": {},
   "outputs": [
    {
     "name": "stdout",
     "output_type": "stream",
     "text": [
      "The Even elements are:\n",
      "42 56 32\n",
      "The Odd elements are:\n",
      "25 47\n"
     ]
    }
   ],
   "source": [
    "elements = [25, 47, 42, 56, 32]\n",
    "\n",
    "# Creating empty list of even and odd numbers.\n",
    "even = []\n",
    "odd = []\n",
    "\n",
    "for i in elements:\n",
    "    if i % 2 == 0:\n",
    "        even.append(i)\n",
    "    else:\n",
    "        odd.append(i)\n",
    "\n",
    "# Print the even and odd elements\n",
    "print(\"The Even elements are:\")\n",
    "print(\" \".join(map(str, even)))\n",
    "\n",
    "print(\"The Odd elements are:\")\n",
    "print(\" \".join(map(str, odd)))"
   ]
  },
  {
   "cell_type": "markdown",
   "id": "1794426b",
   "metadata": {},
   "source": [
    "# Question 5\n",
    "### a. Write a function inside(x,y,x1,y1,x2,y2) that returns True or False depending on whether the point (x,y) lies in the rectangle with lower left corner (x1,y1) and upper right corner (x2,y2)."
   ]
  },
  {
   "cell_type": "code",
   "execution_count": 10,
   "id": "938b29ca",
   "metadata": {},
   "outputs": [
    {
     "name": "stdout",
     "output_type": "stream",
     "text": [
      "True\n",
      "False\n"
     ]
    }
   ],
   "source": [
    "############################\n",
    "## When x = 1 and y = 1. ###\n",
    "############################\n",
    "\n",
    "def inside(x, y, x1, y1, x2, y2):\n",
    "    if x1 <= x <= x2 and y1 <= y <= y2:\n",
    "        return True\n",
    "    else:\n",
    "        return False\n",
    "\n",
    "x = 1\n",
    "y = 1\n",
    "x1 = 0\n",
    "y1 = 0\n",
    "x2 = 2\n",
    "y2 = 3\n",
    "\n",
    "result = inside(x, y, x1, y1, x2, y2)\n",
    "print(result)\n",
    "\n",
    "#############################\n",
    "## When x = -1 and y = -1. ##\n",
    "#############################\n",
    "def inside_2(X, Y, X1, Y1, X2, Y2):\n",
    "    if X1 <= X <= X2 and Y1 <= Y <= Y2:\n",
    "        return True\n",
    "    else:\n",
    "        return False\n",
    "X = -1\n",
    "Y = -1\n",
    "X1 = 0\n",
    "Y1 = 0\n",
    "X2 = 2\n",
    "Y2 = 3\n",
    "\n",
    "result_2 = inside_2(X, Y, X1, Y1, X2, Y2)\n",
    "print(result_2)"
   ]
  },
  {
   "cell_type": "markdown",
   "id": "55183560",
   "metadata": {},
   "source": [
    "### b. Use function inside() from part a. to write an expression that tests whether the point (1,1) lies in both of the following rectangles: one with lower left corner (0.3, 0.5) and upper right corner (1.1, 0.7) and the other with lower left corner (0.5, 0.2) and upper right corner (1.1, 2)."
   ]
  },
  {
   "cell_type": "code",
   "execution_count": 11,
   "id": "92f6b7d2",
   "metadata": {},
   "outputs": [
    {
     "name": "stdout",
     "output_type": "stream",
     "text": [
      "The point (1, 1) is not inside both rectangles.\n"
     ]
    }
   ],
   "source": [
    "# Let the points be x and y\n",
    "x = 1\n",
    "y = 1\n",
    "\n",
    "# Rectangle 1 \n",
    "x1_r1 = 0.3\n",
    "y1_r1 = 0.5\n",
    "x2_r1 = 1.1\n",
    "y2_r1 = 0.7\n",
    "\n",
    "# Rectangle 2\n",
    "x1_r2 = 0.5\n",
    "y1_r2 = 0.2\n",
    "x2_r2 = 1.1\n",
    "y2_r2 = 2.0\n",
    "\n",
    "# Test if (x, y) is inside both rectangles\n",
    "rect1 = inside(x, y, x1_r1, y1_r1, x2_r1, y2_r1)\n",
    "rect2 = inside(x, y, x1_r2, y1_r2, x2_r2, y2_r2)\n",
    "\n",
    "# Check the result\n",
    "if rect1 and rect2:\n",
    "    print(f\"The point ({x}, {y}) is inside both rectangles.\")\n",
    "else:\n",
    "    print(f\"The point ({x}, {y}) is not inside both rectangles.\")\n"
   ]
  },
  {
   "cell_type": "markdown",
   "id": "b2094931",
   "metadata": {},
   "source": [
    "# Question 6\n",
    "### 16. You can turn a word into pig-Latin using the following two rules (simplified):\n",
    "### • If the word starts with a consonant, move that letter to the end and append 'ay'. For example, 'happy' becomes 'appyhay' and 'pencil' becomes 'encilpay'.\n",
    "### • If the word starts with a vowel, simply append 'way' to the end of the word. For example, 'enter' becomes 'enterway' and 'other' becomes 'otherway' . For our purposes, there are 5 vowels: a, e, i, o, u (so we count y as a consonant).\n",
    "### Write a function pig() that takes a word (i.e., a string) as input and returns its pig-Latin form. Your function should still work if the input word contains upper case characters. Your output should always be lower case however"
   ]
  },
  {
   "cell_type": "code",
   "execution_count": 12,
   "id": "44ea7ce1",
   "metadata": {},
   "outputs": [
    {
     "name": "stdout",
     "output_type": "stream",
     "text": [
      "appyhay\n",
      "encilpay\n",
      "enterway\n",
      "otherway\n"
     ]
    }
   ],
   "source": [
    "def pig(word):\n",
    "    word = word.lower()  # We will convert the word into lower case everytime\n",
    "    \n",
    "    # if the word starts with a vowel\n",
    "    vowels = ['a','e','i','o','u']\n",
    "    if word[0] in vowels:\n",
    "        return word + 'way'\n",
    "    else:\n",
    "        index = 0\n",
    "        while index < len(word) and word[index] not in vowels:\n",
    "            index += 1\n",
    "        \n",
    "        # Rearrange the word and append 'ay'\n",
    "        return word[index:] + word[:index] + 'ay'\n",
    "\n",
    "\n",
    "word1 = 'happy'\n",
    "word2 = 'pencil'\n",
    "word3 = 'enter'\n",
    "word4 = 'other'\n",
    "\n",
    "print(pig(word1))\n",
    "print(pig(word2))\n",
    "print(pig(word3))\n",
    "print(pig(word4))"
   ]
  },
  {
   "cell_type": "markdown",
   "id": "45e4d44b",
   "metadata": {},
   "source": [
    "# Question 7\n",
    "### File bloodtype1.txt records blood-types of patients (A, B, AB, O or OO) at a clinic. Write a function bldcount() that reads the file with name name and reports (i.e., prints) how many patients there are in each bloodtype."
   ]
  },
  {
   "cell_type": "code",
   "execution_count": 13,
   "id": "723ce895",
   "metadata": {},
   "outputs": [
    {
     "name": "stdout",
     "output_type": "stream",
     "text": [
      "There are 15 patients of blood type A.\n",
      "There are 1 patients of blood type B.\n",
      "There are 13 patients of blood type AB.\n",
      "There are 15 patients of blood type O.\n",
      "There are 0 patients of blood type OO.\n"
     ]
    }
   ],
   "source": [
    "def bldcount(filename):\n",
    "    file = open(filename, 'r')\n",
    "    data = file.readline()\n",
    "    word_list = []\n",
    "    blood_type = ['A', 'B', 'AB', 'O', 'OO']\n",
    "    word_list.append(data.split(\" \"))\n",
    "    for btype in blood_type:\n",
    "        count = word_list[0].count(btype)\n",
    "        print(\"There are {} patients of blood type {}.\".format(count, btype))\n",
    "\n",
    "bldcount('bloodtype1.txt')"
   ]
  },
  {
   "cell_type": "markdown",
   "id": "b01d8fa0",
   "metadata": {},
   "source": [
    "# Question 8\n",
    "### Write a function curconv() that takes as input:\n",
    "### 1. a currency represented using a string (e.g., 'JPY' for the Japanese Yen or 'EUR' for the Euro)\n",
    "### 2. an amount and then converts and returns the amount in US dollars."
   ]
  },
  {
   "cell_type": "code",
   "execution_count": null,
   "id": "8aa4c504",
   "metadata": {},
   "outputs": [],
   "source": []
  },
  {
   "cell_type": "code",
   "execution_count": 14,
   "id": "48cb7c0a",
   "metadata": {},
   "outputs": [
    {
     "name": "stdout",
     "output_type": "stream",
     "text": [
      "122.96544\n",
      "1.241401\n"
     ]
    }
   ],
   "source": [
    "def curconv (target_currency, amount):\n",
    "    currency_data = {}\n",
    "    currency_file = open ('currencies.txt')\n",
    "    file_lines = currency_file.readlines ()\n",
    "    \n",
    "    for line in file_lines:\n",
    "        code = line[:3].strip() \n",
    "        values = line[4:].split(\"\\t\")\n",
    "        currency_data[code] = (values[0].strip(), values [1].strip ())\n",
    "\n",
    "    conversion_rate = float (currency_data[target_currency][0])\n",
    "    converted_amount = amount * conversion_rate\n",
    "    print(converted_amount)\n",
    "\n",
    "curconv ('EUR', 100)\n",
    "curconv('JPY', 100)"
   ]
  },
  {
   "cell_type": "markdown",
   "id": "69f6dc81",
   "metadata": {},
   "source": [
    "# Question 9\n",
    "### Each of the following will cause an exception (an error). Identify what type of exception each will cause.\n",
    "### Trying to add incompatible variables, as in adding 6 + ‘a’. Referring to the 12th item of a list that has only 10 items. Using a value that is out of range for a functi on’s input, such as calling math.sqrt( 1.0). Using an undeclared variable, such as p rint(x) when x has not been defined. Trying to open a file that does not exist, such as mistyping the file name or looking in the wrong directory."
   ]
  },
  {
   "cell_type": "code",
   "execution_count": 15,
   "id": "4a720ef6",
   "metadata": {},
   "outputs": [
    {
     "name": "stdout",
     "output_type": "stream",
     "text": [
      "Exception Occured unsupported operand type(s) for +: 'int' and 'str'\n"
     ]
    }
   ],
   "source": [
    "try:\n",
    "    trying = 6 + 'a'\n",
    "    print(trying)\n",
    "except Exception as e:\n",
    "    print('Exception Occured',e)\n",
    "    \n",
    "# It is a type error because we are trying to add a integer and a string."
   ]
  },
  {
   "cell_type": "code",
   "execution_count": 16,
   "id": "f3b83b19",
   "metadata": {},
   "outputs": [
    {
     "name": "stdout",
     "output_type": "stream",
     "text": [
      "Error: list index out of range\n"
     ]
    }
   ],
   "source": [
    "# Refering to the 12th item of a list that has only 10 items.\n",
    "\n",
    "List = ['AA', 'BB', 'CC', 'DD', 'EE', 'FF', 'GG', 'HH', 'II', 'JJ']\n",
    "\n",
    "try:\n",
    "    item = List[11]\n",
    "    print(\"Item:\", item)\n",
    "except Exception as e:\n",
    "    print(\"Error:\", e)\n",
    "    \n",
    "# This is an index error because there are only 10 items in the element but we are trying to access 12th item."
   ]
  },
  {
   "cell_type": "code",
   "execution_count": 17,
   "id": "4335d97f",
   "metadata": {},
   "outputs": [
    {
     "name": "stdout",
     "output_type": "stream",
     "text": [
      "Error math domain error\n"
     ]
    }
   ],
   "source": [
    "try:\n",
    "    math.sqrt(-1.0)\n",
    "except Exception as e:\n",
    "    print('Error', e)\n",
    "    \n",
    "# This is a value Error becasue square root of a negative number is not defined in the real number system."
   ]
  },
  {
   "cell_type": "code",
   "execution_count": 18,
   "id": "1b0ff9eb",
   "metadata": {},
   "outputs": [
    {
     "name": "stdout",
     "output_type": "stream",
     "text": [
      "Error: name 'Undeclared' is not defined\n"
     ]
    }
   ],
   "source": [
    "try:\n",
    "    print(Undeclared)\n",
    "except Exception as e:\n",
    "    print(\"Error:\",e)\n",
    "    \n",
    "    \n",
    "#This is a name error because the variable \"Undeclared\" is not defined."
   ]
  },
  {
   "cell_type": "code",
   "execution_count": 19,
   "id": "55d06cdc",
   "metadata": {},
   "outputs": [
    {
     "name": "stdout",
     "output_type": "stream",
     "text": [
      "An error occurred: [Errno 2] No such file or directory: 'bloodtypee3.txt'\n"
     ]
    }
   ],
   "source": [
    "try:\n",
    "    name_of_file = \"bloodtypee3.txt\"\n",
    "    file = open(name_of_file, 'r')\n",
    "    for line in file:\n",
    "        print(line.strip())\n",
    "except Exception as e:\n",
    "    print(f\"An error occurred: {e}\")\n",
    "\n",
    "    \n",
    "    \n",
    "# This is a example of a file we used above which was \"bloodtype1.txt\", but when we miss-spelled the file name\n",
    "# it will give FileNotFound Error."
   ]
  },
  {
   "cell_type": "code",
   "execution_count": null,
   "id": "65a38f97",
   "metadata": {},
   "outputs": [],
   "source": []
  }
 ],
 "metadata": {
  "kernelspec": {
   "display_name": "Python 3 (ipykernel)",
   "language": "python",
   "name": "python3"
  },
  "language_info": {
   "codemirror_mode": {
    "name": "ipython",
    "version": 3
   },
   "file_extension": ".py",
   "mimetype": "text/x-python",
   "name": "python",
   "nbconvert_exporter": "python",
   "pygments_lexer": "ipython3",
   "version": "3.10.9"
  }
 },
 "nbformat": 4,
 "nbformat_minor": 5
}
